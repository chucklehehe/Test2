{
 "cells": [
  {
   "cell_type": "code",
   "execution_count": 1,
   "metadata": {},
   "outputs": [],
   "source": [
    "def your_solution(word, elements):\n",
    "    def helper(word, elements):\n",
    "        if word == '':\n",
    "            return True\n",
    "        return (word[0:1] in elements and helper(word[1:], elements)) or (word[0:2] in elements and helper(word[2:], elements))\n",
    "    return helper(word.lower(), [x.lower() for x in elements])\n",
    "def my_solution(word, elements):\n",
    "    ''' this solution can deal with elements of length > 2 (even though there is none) '''\n",
    "    def helper(word, elements):\n",
    "        if word == '':\n",
    "            return True\n",
    "        return any(word[:len(element)] == element and helper(word[len(element):], elements) for element in elements)\n",
    "    return helper(word.lower(), [x.lower() for x in elements])"
   ]
  },
  {
   "cell_type": "code",
   "execution_count": 2,
   "metadata": {},
   "outputs": [],
   "source": [
    "elements = ['H', 'He', 'Li', 'Be', 'B', 'C', 'N', 'O', 'F', 'Ne', 'Na', 'Mg', 'Al', 'Si', 'P', 'S', 'Cl', 'Ar', 'La']"
   ]
  },
  {
   "cell_type": "code",
   "execution_count": 3,
   "metadata": {},
   "outputs": [
    {
     "data": {
      "text/plain": [
       "True"
      ]
     },
     "execution_count": 3,
     "metadata": {},
     "output_type": "execute_result"
    }
   ],
   "source": [
    "your_solution('Halla', elements)"
   ]
  },
  {
   "cell_type": "code",
   "execution_count": 4,
   "metadata": {},
   "outputs": [
    {
     "data": {
      "text/plain": [
       "True"
      ]
     },
     "execution_count": 4,
     "metadata": {},
     "output_type": "execute_result"
    }
   ],
   "source": [
    "my_solution('Halla', elements)"
   ]
  }
 ],
 "metadata": {
  "interpreter": {
   "hash": "90a8b6d758cdc1aa6bc46034a50bc5a8d89384f6c1c61f6cadb1ba0900b32174"
  },
  "kernelspec": {
   "display_name": "Python 3.8.5 64-bit ('base': conda)",
   "language": "python",
   "name": "python3"
  },
  "language_info": {
   "codemirror_mode": {
    "name": "ipython",
    "version": 3
   },
   "file_extension": ".py",
   "mimetype": "text/x-python",
   "name": "python",
   "nbconvert_exporter": "python",
   "pygments_lexer": "ipython3",
   "version": "3.8.5"
  },
  "orig_nbformat": 4
 },
 "nbformat": 4,
 "nbformat_minor": 2
}
